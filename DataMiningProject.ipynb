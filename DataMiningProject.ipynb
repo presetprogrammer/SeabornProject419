{
  "cells": [
    {
      "cell_type": "markdown",
      "metadata": {
        "id": "view-in-github",
        "colab_type": "text"
      },
      "source": [
        "<a href=\"https://colab.research.google.com/github/presetprogrammer/SeabornProject419/blob/main/DataMiningProject.ipynb\" target=\"_parent\"><img src=\"https://colab.research.google.com/assets/colab-badge.svg\" alt=\"Open In Colab\"/></a>"
      ]
    },
    {
      "cell_type": "markdown",
      "metadata": {
        "id": "NvxYtlYbFxRd"
      },
      "source": [
        "Import Statements"
      ]
    },
    {
      "cell_type": "code",
      "execution_count": 7,
      "metadata": {
        "id": "AMMirilxA5_K"
      },
      "outputs": [],
      "source": [
        "import seaborn as sns\n",
        "import matplotlib.pyplot as plt\n",
        "import pandas as pd\n",
        "import numpy as np\n",
        "\n",
        "# Unsupervised imports\n",
        "if not \"bayesian_bootstrap\" in globals():\n",
        "  !pip install bayesian_bootstrap\n",
        "\n",
        "import bayesian_bootstrap\n",
        "from bayesian_bootstrap import bayesian_bootstrap as bootstrap\n",
        "from sklearn.cluster import MeanShift, DBSCAN\n",
        "from sklearn.mixture import GaussianMixture as gm\n",
        "from sklearn.random_projection import GaussianRandomProjection as grp"
      ]
    },
    {
      "cell_type": "code",
      "execution_count": null,
      "metadata": {
        "id": "-JslfdjTBOc2"
      },
      "outputs": [],
      "source": [
        "temp = sns.load_dataset(\"diamonds\")\n",
        "diamonds = temp.dropna()\n",
        "diamonds.head()"
      ]
    },
    {
      "cell_type": "markdown",
      "metadata": {
        "id": "_9It3JJVEU-x"
      },
      "source": [
        "# Unsupervised\n",
        "---"
      ]
    },
    {
      "cell_type": "markdown",
      "metadata": {
        "id": "njvaIamBEeug"
      },
      "source": [
        "## Clustering Algorithm\n",
        "\n",
        "Due to the size of the dataset, a random sample will be usedfor the dataset.\n",
        "\n",
        "The algorithms used will be:\n",
        "\n",
        "* Mean-Shift\n",
        "* DBSCAN\n",
        "* Gaussian-Mixture Model\n",
        "\n",
        "If dimensionality reduction is needed, then random projection will be used."
      ]
    },
    {
      "cell_type": "code",
      "execution_count": null,
      "metadata": {
        "id": "YVNMW0A-G0q_"
      },
      "outputs": [],
      "source": [
        "sns.pairplot(diamonds.sample(200), vars=[\"carat\", \"depth\", \"table\", \"price\"], hue=\"cut\", kind=\"kde\")\n",
        "plt.show()\n",
        "# Bootstrap"
      ]
    }
  ],
  "metadata": {
    "colab": {
      "provenance": [],
      "include_colab_link": true
    },
    "kernelspec": {
      "display_name": "Python 3",
      "name": "python3"
    },
    "language_info": {
      "codemirror_mode": {
        "name": "ipython",
        "version": 3
      },
      "file_extension": ".py",
      "mimetype": "text/x-python",
      "name": "python",
      "nbconvert_exporter": "python",
      "pygments_lexer": "ipython3",
      "version": "3.11.10"
    }
  },
  "nbformat": 4,
  "nbformat_minor": 0
}